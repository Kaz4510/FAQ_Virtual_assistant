{
 "cells": [
  {
   "cell_type": "code",
   "execution_count": 1,
   "id": "86856df5",
   "metadata": {},
   "outputs": [],
   "source": [
    "import numpy as np"
   ]
  },
  {
   "cell_type": "code",
   "execution_count": 3,
   "id": "37cf635e",
   "metadata": {},
   "outputs": [],
   "source": [
    "import pandas as pd"
   ]
  },
  {
   "cell_type": "code",
   "execution_count": 5,
   "id": "f92d2d8f",
   "metadata": {},
   "outputs": [],
   "source": [
    "from lingualytics.preprocessing import remove_lessthan, remove_punctuation, remove_stopwords\n",
    "from lingualytics.stopwords import en_stopwords\n",
    "from texthero.preprocessing import remove_digits"
   ]
  },
  {
   "cell_type": "code",
   "execution_count": 7,
   "id": "9121197d",
   "metadata": {},
   "outputs": [],
   "source": [
    "from sentence_transformers import SentenceTransformer"
   ]
  },
  {
   "cell_type": "code",
   "execution_count": 8,
   "id": "dd8367b8",
   "metadata": {},
   "outputs": [],
   "source": [
    "from torch.nn import CosineSimilarity\n",
    "import torch"
   ]
  },
  {
   "cell_type": "code",
   "execution_count": 9,
   "id": "f5d32452",
   "metadata": {},
   "outputs": [],
   "source": [
    "import pickle"
   ]
  },
  {
   "cell_type": "code",
   "execution_count": 25,
   "id": "33a48e61",
   "metadata": {},
   "outputs": [
    {
     "data": {
      "text/html": [
       "<div>\n",
       "<style scoped>\n",
       "    .dataframe tbody tr th:only-of-type {\n",
       "        vertical-align: middle;\n",
       "    }\n",
       "\n",
       "    .dataframe tbody tr th {\n",
       "        vertical-align: top;\n",
       "    }\n",
       "\n",
       "    .dataframe thead th {\n",
       "        text-align: right;\n",
       "    }\n",
       "</style>\n",
       "<table border=\"1\" class=\"dataframe\">\n",
       "  <thead>\n",
       "    <tr style=\"text-align: right;\">\n",
       "      <th></th>\n",
       "      <th>Q</th>\n",
       "      <th>A</th>\n",
       "    </tr>\n",
       "  </thead>\n",
       "  <tbody>\n",
       "    <tr>\n",
       "      <th>0</th>\n",
       "      <td>What is kandi?</td>\n",
       "      <td>kandi (pronounced kan�dee) is a platform that helps developers pick the right library, package, code samples, APIs, and cloud functions, by analyzing over 430 million knowledge items.</td>\n",
       "    </tr>\n",
       "    <tr>\n",
       "      <th>1</th>\n",
       "      <td>Have feedback or want to know more?</td>\n",
       "      <td>We are a passionate set of application focused techies. We�d love to hear from you on your feedback, questions, and any other comments.\\nDirect Message us on Twitter Message @OpenWeaverInc\\nYou can email us at kandi.support@openweaver.com\\nJoin our Discord community here</td>\n",
       "    </tr>\n",
       "    <tr>\n",
       "      <th>2</th>\n",
       "      <td>What components does kandi cover?</td>\n",
       "      <td>kandi helps you select software components across:\\nPackages from all package managers and repositories\\nSource Code across all major code repositories\\nCloud Functions and APIs across all hyperscale cloud providers</td>\n",
       "    </tr>\n",
       "    <tr>\n",
       "      <th>3</th>\n",
       "      <td>How do I use kandi?</td>\n",
       "      <td>kandi provides two simplified experiences to help you choose the right software component to accelerate your application development:\\n\\n1. Search\\nYou can search for the component using natural language to describe your functional and technical requirements, and kandi gets to work by matching these over 430 million knowledge items to show you a shortlist.\\nYou can further filter them or refine your query and pick your chosen ones based on scores available on the component listing page.\\nClick on the components from the list to review detailed insights such as support, quality, security, and a reference guide covering code snippets, community discussions from the provider, and popular channels.\\nThe component listing and detailed insights page have links to the software component home. Some software components may have multiple providers, and you can access all the links.\\n\\n2. Explore\\nYou can Explore kandi curated sections across Popular Collections, Hot Tech, and Industry Domains from the Home Page or the Explore Page. These sections list the popular components among your peers, have functional relevance, and positive security, quality, and support scores in the respective areas.\\nYou can browse these sections to get industry insights.\\nYou can further filter them and pick your chosen ones based on scores available on the component listing page.\\nClick on the components from the list to review detailed insights such as support, quality, security, and a reference guide covering code snippets, community discussions from the provider, and popular channels.\\nThe component listing and detailed insights page have links to the software component home. Some software components may have multiple providers, and you can access all the links.</td>\n",
       "    </tr>\n",
       "    <tr>\n",
       "      <th>4</th>\n",
       "      <td>How do I shortlist components on kandi?</td>\n",
       "      <td>You can use the below filters to shortlist components based on your architectural preferences:\\n\\nLanguages � This is an expanding list of languages chosen by popularity amongst kandi users.\\nLicenses � Licenses are grouped by:\\n\\nOSS License families, covering Permissive, Weak Copyleft, and Strong Copyleft.\\nProprietary license category covering the emerging cloud licenses as well as As-a-Service contracts.\\nNo License indicates that the respective repository does not have the license file declared as per the repository manager�s standard. They could still have a license file declared in a different format or section. Components without a license have all rights reserved, and you may not be able to use them. Hence kandi alerts you when a valid license file is not found.\\n\\nSupport � High support indicates a thriving ecosystem across the author and users, that will help you implement with relative ease.\\nComponent Types � Component Types are grouped by:\\n\\nLibraries from package managers and repositories that can be readily installed.\\nSource Code that may or may not be associated with a package and are from code repositories.\\nCloud Functions and APIs that are provided As-a-Service from cloud providers.\\n\\nSources � This is an expanding list of software component sources chosen by popularity amongst kandi users.\\nIndustries � This indicates the industry domain that the component has been associated with or could be used in, for specific use cases.\\nSecurity � This reflects the security score of the software component across reported and code-based vulnerabilities.</td>\n",
       "    </tr>\n",
       "    <tr>\n",
       "      <th>5</th>\n",
       "      <td>How do I implement the components that I have selected on kandi?</td>\n",
       "      <td>The component listing and detailed insights page have links to the software component home. Some software components may have multiple providers, and you can access all the links.\\nYou can follow implementation instructions from the software component home page based on the component type.</td>\n",
       "    </tr>\n",
       "  </tbody>\n",
       "</table>\n",
       "</div>"
      ],
      "text/plain": [
       "                                                                  Q  \\\n",
       "0                                                    What is kandi?   \n",
       "1                               Have feedback or want to know more?   \n",
       "2                                 What components does kandi cover?   \n",
       "3                                               How do I use kandi?   \n",
       "4                           How do I shortlist components on kandi?   \n",
       "5  How do I implement the components that I have selected on kandi?   \n",
       "\n",
       "                                                                                                                                                                                                                                                                                                                                                                                                                                                                                                                                                                                                                                                                                                                                                                                                                                                                                                                                                                                                                                                                                                                                                                                                                                                                                                                                                                                                                                                                                                                                                                                                                                                                                                                                                                                                                                     A  \n",
       "0                                                                                                                                                                                                                                                                                                                                                                                                                                                                                                                                                                                                                                                                                                                                                                                                                                                                                                                                                                                                                                                                                                                                                                                                                                                                                                                                                                                                                                                                                                                                                                                                                                              kandi (pronounced kan�dee) is a platform that helps developers pick the right library, package, code samples, APIs, and cloud functions, by analyzing over 430 million knowledge items.  \n",
       "1                                                                                                                                                                                                                                                                                                                                                                                                                                                                                                                                                                                                                                                                                                                                                                                                                                                                                                                                                                                                                                                                                                                                                                                                                                                                                                                                                                                                                                                                                                                                                      We are a passionate set of application focused techies. We�d love to hear from you on your feedback, questions, and any other comments.\\nDirect Message us on Twitter Message @OpenWeaverInc\\nYou can email us at kandi.support@openweaver.com\\nJoin our Discord community here  \n",
       "2                                                                                                                                                                                                                                                                                                                                                                                                                                                                                                                                                                                                                                                                                                                                                                                                                                                                                                                                                                                                                                                                                                                                                                                                                                                                                                                                                                                                                                                                                                                                                                                                              kandi helps you select software components across:\\nPackages from all package managers and repositories\\nSource Code across all major code repositories\\nCloud Functions and APIs across all hyperscale cloud providers  \n",
       "3  kandi provides two simplified experiences to help you choose the right software component to accelerate your application development:\\n\\n1. Search\\nYou can search for the component using natural language to describe your functional and technical requirements, and kandi gets to work by matching these over 430 million knowledge items to show you a shortlist.\\nYou can further filter them or refine your query and pick your chosen ones based on scores available on the component listing page.\\nClick on the components from the list to review detailed insights such as support, quality, security, and a reference guide covering code snippets, community discussions from the provider, and popular channels.\\nThe component listing and detailed insights page have links to the software component home. Some software components may have multiple providers, and you can access all the links.\\n\\n2. Explore\\nYou can Explore kandi curated sections across Popular Collections, Hot Tech, and Industry Domains from the Home Page or the Explore Page. These sections list the popular components among your peers, have functional relevance, and positive security, quality, and support scores in the respective areas.\\nYou can browse these sections to get industry insights.\\nYou can further filter them and pick your chosen ones based on scores available on the component listing page.\\nClick on the components from the list to review detailed insights such as support, quality, security, and a reference guide covering code snippets, community discussions from the provider, and popular channels.\\nThe component listing and detailed insights page have links to the software component home. Some software components may have multiple providers, and you can access all the links.  \n",
       "4                                                                                                                                                                              You can use the below filters to shortlist components based on your architectural preferences:\\n\\nLanguages � This is an expanding list of languages chosen by popularity amongst kandi users.\\nLicenses � Licenses are grouped by:\\n\\nOSS License families, covering Permissive, Weak Copyleft, and Strong Copyleft.\\nProprietary license category covering the emerging cloud licenses as well as As-a-Service contracts.\\nNo License indicates that the respective repository does not have the license file declared as per the repository manager�s standard. They could still have a license file declared in a different format or section. Components without a license have all rights reserved, and you may not be able to use them. Hence kandi alerts you when a valid license file is not found.\\n\\nSupport � High support indicates a thriving ecosystem across the author and users, that will help you implement with relative ease.\\nComponent Types � Component Types are grouped by:\\n\\nLibraries from package managers and repositories that can be readily installed.\\nSource Code that may or may not be associated with a package and are from code repositories.\\nCloud Functions and APIs that are provided As-a-Service from cloud providers.\\n\\nSources � This is an expanding list of software component sources chosen by popularity amongst kandi users.\\nIndustries � This indicates the industry domain that the component has been associated with or could be used in, for specific use cases.\\nSecurity � This reflects the security score of the software component across reported and code-based vulnerabilities.  \n",
       "5                                                                                                                                                                                                                                                                                                                                                                                                                                                                                                                                                                                                                                                                                                                                                                                                                                                                                                                                                                                                                                                                                                                                                                                                                                                                                                                                                                                                                                                                                                                                   The component listing and detailed insights page have links to the software component home. Some software components may have multiple providers, and you can access all the links.\\nYou can follow implementation instructions from the software component home page based on the component type.  "
      ]
     },
     "execution_count": 25,
     "metadata": {},
     "output_type": "execute_result"
    }
   ],
   "source": [
    "DATA_SOURCE_PATH = r\"C:\\Users\\jvris\\OneDrive\\Desktop\\Classes\\agent\\faq-virtual-agent-main\\faqs.csv\"\n",
    "df=pd.read_csv(DATA_SOURCE_PATH, error_bad_lines = 'ignore')\n",
    "pd.set_option('display.max_colwidth', None)\n",
    "df"
   ]
  },
  {
   "cell_type": "code",
   "execution_count": 26,
   "id": "f9e274ad",
   "metadata": {},
   "outputs": [
    {
     "name": "stderr",
     "output_type": "stream",
     "text": [
      "C:\\Users\\jvris\\anaconda3\\lib\\site-packages\\lingualytics\\preprocessing.py:9: FutureWarning: The default value of regex will change from True to False in a future version.\n",
      "  return s.str.replace(rf\"([{punctuation}])+\", \" \")\n"
     ]
    },
    {
     "data": {
      "text/html": [
       "<div>\n",
       "<style scoped>\n",
       "    .dataframe tbody tr th:only-of-type {\n",
       "        vertical-align: middle;\n",
       "    }\n",
       "\n",
       "    .dataframe tbody tr th {\n",
       "        vertical-align: top;\n",
       "    }\n",
       "\n",
       "    .dataframe thead th {\n",
       "        text-align: right;\n",
       "    }\n",
       "</style>\n",
       "<table border=\"1\" class=\"dataframe\">\n",
       "  <thead>\n",
       "    <tr style=\"text-align: right;\">\n",
       "      <th></th>\n",
       "      <th>Q</th>\n",
       "      <th>A</th>\n",
       "      <th>procd_Q</th>\n",
       "    </tr>\n",
       "  </thead>\n",
       "  <tbody>\n",
       "    <tr>\n",
       "      <th>0</th>\n",
       "      <td>What is kandi?</td>\n",
       "      <td>kandi (pronounced kan�dee) is a platform that helps developers pick the right library, package, code samples, APIs, and cloud functions, by analyzing over 430 million knowledge items.</td>\n",
       "      <td>What is kandi</td>\n",
       "    </tr>\n",
       "    <tr>\n",
       "      <th>1</th>\n",
       "      <td>Have feedback or want to know more?</td>\n",
       "      <td>We are a passionate set of application focused techies. We�d love to hear from you on your feedback, questions, and any other comments.\\nDirect Message us on Twitter Message @OpenWeaverInc\\nYou can email us at kandi.support@openweaver.com\\nJoin our Discord community here</td>\n",
       "      <td>Have feedback or want to know more</td>\n",
       "    </tr>\n",
       "    <tr>\n",
       "      <th>2</th>\n",
       "      <td>What components does kandi cover?</td>\n",
       "      <td>kandi helps you select software components across:\\nPackages from all package managers and repositories\\nSource Code across all major code repositories\\nCloud Functions and APIs across all hyperscale cloud providers</td>\n",
       "      <td>What components does kandi cover</td>\n",
       "    </tr>\n",
       "    <tr>\n",
       "      <th>3</th>\n",
       "      <td>How do I use kandi?</td>\n",
       "      <td>kandi provides two simplified experiences to help you choose the right software component to accelerate your application development:\\n\\n1. Search\\nYou can search for the component using natural language to describe your functional and technical requirements, and kandi gets to work by matching these over 430 million knowledge items to show you a shortlist.\\nYou can further filter them or refine your query and pick your chosen ones based on scores available on the component listing page.\\nClick on the components from the list to review detailed insights such as support, quality, security, and a reference guide covering code snippets, community discussions from the provider, and popular channels.\\nThe component listing and detailed insights page have links to the software component home. Some software components may have multiple providers, and you can access all the links.\\n\\n2. Explore\\nYou can Explore kandi curated sections across Popular Collections, Hot Tech, and Industry Domains from the Home Page or the Explore Page. These sections list the popular components among your peers, have functional relevance, and positive security, quality, and support scores in the respective areas.\\nYou can browse these sections to get industry insights.\\nYou can further filter them and pick your chosen ones based on scores available on the component listing page.\\nClick on the components from the list to review detailed insights such as support, quality, security, and a reference guide covering code snippets, community discussions from the provider, and popular channels.\\nThe component listing and detailed insights page have links to the software component home. Some software components may have multiple providers, and you can access all the links.</td>\n",
       "      <td>How do I use kandi</td>\n",
       "    </tr>\n",
       "    <tr>\n",
       "      <th>4</th>\n",
       "      <td>How do I shortlist components on kandi?</td>\n",
       "      <td>You can use the below filters to shortlist components based on your architectural preferences:\\n\\nLanguages � This is an expanding list of languages chosen by popularity amongst kandi users.\\nLicenses � Licenses are grouped by:\\n\\nOSS License families, covering Permissive, Weak Copyleft, and Strong Copyleft.\\nProprietary license category covering the emerging cloud licenses as well as As-a-Service contracts.\\nNo License indicates that the respective repository does not have the license file declared as per the repository manager�s standard. They could still have a license file declared in a different format or section. Components without a license have all rights reserved, and you may not be able to use them. Hence kandi alerts you when a valid license file is not found.\\n\\nSupport � High support indicates a thriving ecosystem across the author and users, that will help you implement with relative ease.\\nComponent Types � Component Types are grouped by:\\n\\nLibraries from package managers and repositories that can be readily installed.\\nSource Code that may or may not be associated with a package and are from code repositories.\\nCloud Functions and APIs that are provided As-a-Service from cloud providers.\\n\\nSources � This is an expanding list of software component sources chosen by popularity amongst kandi users.\\nIndustries � This indicates the industry domain that the component has been associated with or could be used in, for specific use cases.\\nSecurity � This reflects the security score of the software component across reported and code-based vulnerabilities.</td>\n",
       "      <td>How do I shortlist components on kandi</td>\n",
       "    </tr>\n",
       "    <tr>\n",
       "      <th>5</th>\n",
       "      <td>How do I implement the components that I have selected on kandi?</td>\n",
       "      <td>The component listing and detailed insights page have links to the software component home. Some software components may have multiple providers, and you can access all the links.\\nYou can follow implementation instructions from the software component home page based on the component type.</td>\n",
       "      <td>How do I implement the components that I have selected on kandi</td>\n",
       "    </tr>\n",
       "  </tbody>\n",
       "</table>\n",
       "</div>"
      ],
      "text/plain": [
       "                                                                  Q  \\\n",
       "0                                                    What is kandi?   \n",
       "1                               Have feedback or want to know more?   \n",
       "2                                 What components does kandi cover?   \n",
       "3                                               How do I use kandi?   \n",
       "4                           How do I shortlist components on kandi?   \n",
       "5  How do I implement the components that I have selected on kandi?   \n",
       "\n",
       "                                                                                                                                                                                                                                                                                                                                                                                                                                                                                                                                                                                                                                                                                                                                                                                                                                                                                                                                                                                                                                                                                                                                                                                                                                                                                                                                                                                                                                                                                                                                                                                                                                                                                                                                                                                                                                     A  \\\n",
       "0                                                                                                                                                                                                                                                                                                                                                                                                                                                                                                                                                                                                                                                                                                                                                                                                                                                                                                                                                                                                                                                                                                                                                                                                                                                                                                                                                                                                                                                                                                                                                                                                                                              kandi (pronounced kan�dee) is a platform that helps developers pick the right library, package, code samples, APIs, and cloud functions, by analyzing over 430 million knowledge items.   \n",
       "1                                                                                                                                                                                                                                                                                                                                                                                                                                                                                                                                                                                                                                                                                                                                                                                                                                                                                                                                                                                                                                                                                                                                                                                                                                                                                                                                                                                                                                                                                                                                                      We are a passionate set of application focused techies. We�d love to hear from you on your feedback, questions, and any other comments.\\nDirect Message us on Twitter Message @OpenWeaverInc\\nYou can email us at kandi.support@openweaver.com\\nJoin our Discord community here   \n",
       "2                                                                                                                                                                                                                                                                                                                                                                                                                                                                                                                                                                                                                                                                                                                                                                                                                                                                                                                                                                                                                                                                                                                                                                                                                                                                                                                                                                                                                                                                                                                                                                                                              kandi helps you select software components across:\\nPackages from all package managers and repositories\\nSource Code across all major code repositories\\nCloud Functions and APIs across all hyperscale cloud providers   \n",
       "3  kandi provides two simplified experiences to help you choose the right software component to accelerate your application development:\\n\\n1. Search\\nYou can search for the component using natural language to describe your functional and technical requirements, and kandi gets to work by matching these over 430 million knowledge items to show you a shortlist.\\nYou can further filter them or refine your query and pick your chosen ones based on scores available on the component listing page.\\nClick on the components from the list to review detailed insights such as support, quality, security, and a reference guide covering code snippets, community discussions from the provider, and popular channels.\\nThe component listing and detailed insights page have links to the software component home. Some software components may have multiple providers, and you can access all the links.\\n\\n2. Explore\\nYou can Explore kandi curated sections across Popular Collections, Hot Tech, and Industry Domains from the Home Page or the Explore Page. These sections list the popular components among your peers, have functional relevance, and positive security, quality, and support scores in the respective areas.\\nYou can browse these sections to get industry insights.\\nYou can further filter them and pick your chosen ones based on scores available on the component listing page.\\nClick on the components from the list to review detailed insights such as support, quality, security, and a reference guide covering code snippets, community discussions from the provider, and popular channels.\\nThe component listing and detailed insights page have links to the software component home. Some software components may have multiple providers, and you can access all the links.   \n",
       "4                                                                                                                                                                              You can use the below filters to shortlist components based on your architectural preferences:\\n\\nLanguages � This is an expanding list of languages chosen by popularity amongst kandi users.\\nLicenses � Licenses are grouped by:\\n\\nOSS License families, covering Permissive, Weak Copyleft, and Strong Copyleft.\\nProprietary license category covering the emerging cloud licenses as well as As-a-Service contracts.\\nNo License indicates that the respective repository does not have the license file declared as per the repository manager�s standard. They could still have a license file declared in a different format or section. Components without a license have all rights reserved, and you may not be able to use them. Hence kandi alerts you when a valid license file is not found.\\n\\nSupport � High support indicates a thriving ecosystem across the author and users, that will help you implement with relative ease.\\nComponent Types � Component Types are grouped by:\\n\\nLibraries from package managers and repositories that can be readily installed.\\nSource Code that may or may not be associated with a package and are from code repositories.\\nCloud Functions and APIs that are provided As-a-Service from cloud providers.\\n\\nSources � This is an expanding list of software component sources chosen by popularity amongst kandi users.\\nIndustries � This indicates the industry domain that the component has been associated with or could be used in, for specific use cases.\\nSecurity � This reflects the security score of the software component across reported and code-based vulnerabilities.   \n",
       "5                                                                                                                                                                                                                                                                                                                                                                                                                                                                                                                                                                                                                                                                                                                                                                                                                                                                                                                                                                                                                                                                                                                                                                                                                                                                                                                                                                                                                                                                                                                                   The component listing and detailed insights page have links to the software component home. Some software components may have multiple providers, and you can access all the links.\\nYou can follow implementation instructions from the software component home page based on the component type.   \n",
       "\n",
       "                                                            procd_Q  \n",
       "0                                                    What is kandi   \n",
       "1                               Have feedback or want to know more   \n",
       "2                                 What components does kandi cover   \n",
       "3                                               How do I use kandi   \n",
       "4                           How do I shortlist components on kandi   \n",
       "5  How do I implement the components that I have selected on kandi   "
      ]
     },
     "execution_count": 26,
     "metadata": {},
     "output_type": "execute_result"
    }
   ],
   "source": [
    "df['procd_Q'] = df['Q'].pipe(remove_digits).pipe(remove_punctuation)\n",
    "df"
   ]
  },
  {
   "cell_type": "code",
   "execution_count": 29,
   "id": "9524e535",
   "metadata": {},
   "outputs": [],
   "source": [
    "model = SentenceTransformer('paraphrase-MiniLM-L6-v2')"
   ]
  },
  {
   "cell_type": "code",
   "execution_count": 30,
   "id": "fa1c6978",
   "metadata": {},
   "outputs": [],
   "source": [
    "MODEL_PATH = r\"C:\\Users\\jvris\\OneDrive\\Desktop\\Classes\\agent\\faq-virtual-agent-main\\models\\model_va.pickle\"\n",
    "q_embs = model.encode(df[\"procd_Q\"]) # computes encode for all the questions from the dataset. \n",
    "                                    #Embeddings can be computed in batches for massive dataset.\n",
    "with open(MODEL_PATH, \"wb\") as file:\n",
    "    pickle.dump(q_embs, file)"
   ]
  },
  {
   "cell_type": "code",
   "execution_count": 33,
   "id": "4021aacd",
   "metadata": {},
   "outputs": [],
   "source": [
    "with open(r\"C:\\Users\\jvris\\OneDrive\\Desktop\\Classes\\agent\\faq-virtual-agent-main\\models\\model_va.pickle\", \"rb\") as file:\n",
    "    q_embs = pickle.load(file)"
   ]
  },
  {
   "cell_type": "code",
   "execution_count": 34,
   "id": "66b9ebca",
   "metadata": {},
   "outputs": [],
   "source": [
    "def pred_answer(usr_query):\n",
    "    df_query = pd.DataFrame([usr_query], columns=[\"usr_query\"]) # use similar pipeline that was used for computing embeddings from dataset\n",
    "    df_query[\"clean_usr_q\"] = df_query[\"usr_query\"].pipe(remove_digits).pipe(remove_punctuation)\n",
    "    usr_q_emb = model.encode(df_query[\"clean_usr_q\"]) # compute embedding\n",
    "    cosine_similarity = CosineSimilarity()\n",
    "    q_idx = np.argmax(cosine_similarity(torch.from_numpy(usr_q_emb), torch.from_numpy(q_embs))) # compute cosine similarity and find the matched query\n",
    "    print(df[\"A\"][q_idx.item()]) # look up answer of the matched query from the dataframe of input dataset"
   ]
  },
  {
   "cell_type": "code",
   "execution_count": 35,
   "id": "6fadcf82",
   "metadata": {},
   "outputs": [],
   "source": [
    "user_query = \"what is Kandi? \""
   ]
  },
  {
   "cell_type": "code",
   "execution_count": 36,
   "id": "4e42402f",
   "metadata": {},
   "outputs": [
    {
     "name": "stdout",
     "output_type": "stream",
     "text": [
      "kandi (pronounced kan�dee) is a platform that helps developers pick the right library, package, code samples, APIs, and cloud functions, by analyzing over 430 million knowledge items.\n"
     ]
    },
    {
     "name": "stderr",
     "output_type": "stream",
     "text": [
      "C:\\Users\\jvris\\anaconda3\\lib\\site-packages\\lingualytics\\preprocessing.py:9: FutureWarning: The default value of regex will change from True to False in a future version.\n",
      "  return s.str.replace(rf\"([{punctuation}])+\", \" \")\n"
     ]
    }
   ],
   "source": [
    "pred_answer(user_query)"
   ]
  },
  {
   "cell_type": "code",
   "execution_count": null,
   "id": "9bb9f07e",
   "metadata": {},
   "outputs": [
    {
     "name": "stdout",
     "output_type": "stream",
     "text": [
      "Ask a query: what is Kandi?\n",
      "kandi (pronounced kan�dee) is a platform that helps developers pick the right library, package, code samples, APIs, and cloud functions, by analyzing over 430 million knowledge items.\n",
      "Answer None\n",
      "----------------\n",
      "Ask a query: what components does kandi cover?\n",
      "kandi helps you select software components across:\n",
      "Packages from all package managers and repositories\n",
      "Source Code across all major code repositories\n",
      "Cloud Functions and APIs across all hyperscale cloud providers\n",
      "Answer None\n",
      "----------------\n",
      "Ask a query: kandi?\n",
      "kandi (pronounced kan�dee) is a platform that helps developers pick the right library, package, code samples, APIs, and cloud functions, by analyzing over 430 million knowledge items.\n",
      "Answer None\n",
      "----------------\n",
      "Ask a query: shortlist components\n",
      "You can use the below filters to shortlist components based on your architectural preferences:\n",
      "\n",
      "Languages � This is an expanding list of languages chosen by popularity amongst kandi users.\n",
      "Licenses � Licenses are grouped by:\n",
      "\n",
      "OSS License families, covering Permissive, Weak Copyleft, and Strong Copyleft.\n",
      "Proprietary license category covering the emerging cloud licenses as well as As-a-Service contracts.\n",
      "No License indicates that the respective repository does not have the license file declared as per the repository manager�s standard. They could still have a license file declared in a different format or section. Components without a license have all rights reserved, and you may not be able to use them. Hence kandi alerts you when a valid license file is not found.\n",
      "\n",
      "Support � High support indicates a thriving ecosystem across the author and users, that will help you implement with relative ease.\n",
      "Component Types � Component Types are grouped by:\n",
      "\n",
      "Libraries from package managers and repositories that can be readily installed.\n",
      "Source Code that may or may not be associated with a package and are from code repositories.\n",
      "Cloud Functions and APIs that are provided As-a-Service from cloud providers.\n",
      "\n",
      "Sources � This is an expanding list of software component sources chosen by popularity amongst kandi users.\n",
      "Industries � This indicates the industry domain that the component has been associated with or could be used in, for specific use cases.\n",
      "Security � This reflects the security score of the software component across reported and code-based vulnerabilities.\n",
      "Answer None\n",
      "----------------\n"
     ]
    }
   ],
   "source": [
    "while True:\n",
    "    usr_q = input(\"Ask a query: \")\n",
    "    if usr_q =='exit':\n",
    "        break\n",
    "    else:\n",
    "        print(\"Answer\", pred_answer(usr_q))\n",
    "    print(\"----------------\")\n"
   ]
  },
  {
   "cell_type": "code",
   "execution_count": null,
   "id": "a04c1f26",
   "metadata": {},
   "outputs": [],
   "source": []
  }
 ],
 "metadata": {
  "kernelspec": {
   "display_name": "Python 3",
   "language": "python",
   "name": "python3"
  },
  "language_info": {
   "codemirror_mode": {
    "name": "ipython",
    "version": 3
   },
   "file_extension": ".py",
   "mimetype": "text/x-python",
   "name": "python",
   "nbconvert_exporter": "python",
   "pygments_lexer": "ipython3",
   "version": "3.8.8"
  }
 },
 "nbformat": 4,
 "nbformat_minor": 5
}
